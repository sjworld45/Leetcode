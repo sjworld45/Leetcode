{
 "cells": [
  {
   "cell_type": "markdown",
   "metadata": {},
   "source": [
    "# 2. Add Two Numbers\n",
    "\n",
    "You are given two non-empty linked lists representing two non-negative integers. The digits are stored in reverse order, and each of their nodes contains a single digit. Add the two numbers and return the sum as a linked list.\n",
    "\n",
    "You may assume the two numbers do not contain any leading zero, except the number 0 itself.\n",
    "\n",
    "Example 1:\n",
    "Input: l1 = [2,4,3], l2 = [5,6,4]\n",
    "Output: [7,0,8]\n",
    "Explanation: 342 + 465 = 807.\n",
    "\n",
    "Example 2:\n",
    "Input: l1 = [0], l2 = [0]\n",
    "Output: [0]\n",
    "\n",
    "Example 3:\n",
    "Input: l1 = [9,9,9,9,9,9,9], l2 = [9,9,9,9]\n",
    "Output: [8,9,9,9,0,0,0,1]"
   ]
  },
  {
   "cell_type": "code",
   "execution_count": 5,
   "metadata": {},
   "outputs": [
    {
     "data": {
      "text/plain": [
       "2"
      ]
     },
     "execution_count": 5,
     "metadata": {},
     "output_type": "execute_result"
    }
   ],
   "source": [
    "3 if 5>6 else 2"
   ]
  },
  {
   "cell_type": "code",
   "execution_count": 6,
   "metadata": {},
   "outputs": [],
   "source": [
    "class ListNode(object):\n",
    "    def __init__(self, val=0, next=None):\n",
    "        self.val = val\n",
    "        self.next = next"
   ]
  },
  {
   "cell_type": "code",
   "execution_count": null,
   "metadata": {},
   "outputs": [],
   "source": [
    "def create_linked_list(t):\n",
    "    new_node = ListNode(val = t[0], next = create_linked_list(t[1:]) if len(t) > 1 else None)\n",
    "    return new_node"
   ]
  },
  {
   "cell_type": "code",
   "execution_count": 20,
   "metadata": {},
   "outputs": [],
   "source": [
    "def print_linked_list(l):\n",
    "    while l != None:\n",
    "        print(l.val, end = ', ')\n",
    "        l = l.next"
   ]
  },
  {
   "cell_type": "code",
   "execution_count": 21,
   "metadata": {},
   "outputs": [],
   "source": [
    "def create_linked_list2(t):\n",
    "    l = ListNode(val = t[0], next = None)\n",
    "    temp = l\n",
    "    for n in t[1:]:\n",
    "        curr = ListNode(val = n, next = None)\n",
    "        l.next = curr \n",
    "        l = curr\n",
    "    return temp\n"
   ]
  },
  {
   "cell_type": "code",
   "execution_count": 22,
   "metadata": {},
   "outputs": [
    {
     "name": "stdout",
     "output_type": "stream",
     "text": [
      "0, 1, 2, 3, 4, 5, 6, 7, 8, 9, 10, 11, 12, 13, 14, 15, 16, 17, 18, 19, 20, 21, 22, 23, 24, 25, 26, 27, 28, 29, 30, 31, 32, 33, 34, 35, 36, 37, 38, 39, 40, 41, 42, 43, 44, 45, 46, 47, 48, 49, 50, 51, 52, 53, 54, 55, 56, 57, 58, 59, 60, 61, 62, 63, 64, 65, 66, 67, 68, 69, 70, 71, 72, 73, 74, 75, 76, 77, 78, 79, 80, 81, 82, 83, 84, 85, 86, 87, 88, 89, 90, 91, 92, 93, 94, 95, 96, 97, 98, 99, "
     ]
    }
   ],
   "source": [
    "t = list(range(100))\n",
    "l = create_linked_list2(t)\n",
    "print_linked_list(l)"
   ]
  },
  {
   "cell_type": "code",
   "execution_count": null,
   "metadata": {},
   "outputs": [],
   "source": [
    "# get the final sum into a list, and then convert that list into a linked list\n",
    "# if n = len(l1), m = len(l2)\n",
    "# then the function runs in O(2 * max(m, n)) = O(max(m, n))\n",
    "\n",
    "def addTwoNumbers(l1, l2):\n",
    "    \"\"\"\n",
    "    :type l1: Optional[ListNode]\n",
    "    :type l2: Optional[ListNode]\n",
    "    :rtype: Optional[ListNode]\n",
    "    \"\"\"\n",
    "    t = []\n",
    "    carry = 0\n",
    "\n",
    "    while l1 != None or l2 != None:\n",
    "        if l1 == None:\n",
    "            n1 = 0\n",
    "        else:\n",
    "            n1 = l1.val\n",
    "            l1 = l1.next\n",
    "        \n",
    "        if l2 == None:\n",
    "            n2 = 0\n",
    "        else:\n",
    "            n2 = l2.val\n",
    "            l2 = l2.next \n",
    "\n",
    "        sum = n1 + n2 + carry\n",
    "        n3 = sum%10\n",
    "        carry = sum//10\n",
    "        \n",
    "        t.append(n3)\n",
    "\n",
    "    else:\n",
    "        if carry > 0:\n",
    "            t.append(carry)\n",
    "        l3 = create_linked_list(t)\n",
    "        return l3"
   ]
  },
  {
   "cell_type": "code",
   "execution_count": null,
   "metadata": {},
   "outputs": [],
   "source": [
    "def addTwoNumbers(l1, l2):\n",
    "    l3 = None\n",
    "    temp = ListNode()\n",
    "    carry = 0\n",
    "    while l1 or l2 or carry > 0:\n",
    "        if l1:\n",
    "            n1 = l1.val\n",
    "            l1 = l1.next \n",
    "        else:\n",
    "            n1 = 0\n",
    "        \n",
    "        if l2:\n",
    "            n2 = l2.val\n",
    "            l2 = l2.next\n",
    "        else:\n",
    "            n2 = 0\n",
    "\n",
    "        carry, sum = divmod(n1 + n2 + carry, 10)\n",
    "        temp.val = sum\n",
    "        if l3 == None:\n",
    "            l3 = temp\n",
    "        temp.next = ListNode()\n",
    "    \n",
    "    else:\n",
    "        temp.next = None\n",
    "        return l3\n",
    "        "
   ]
  },
  {
   "cell_type": "code",
   "execution_count": 23,
   "metadata": {},
   "outputs": [],
   "source": [
    "# O(max(m, n)), loops only one unlike the previous way\n",
    "\n",
    "def addTwoNumbers(l1, l2):\n",
    "    temp = ListNode()\n",
    "    l3 = temp\n",
    "    carry = 0\n",
    "    while True:\n",
    "        if l1:\n",
    "            n1 = l1.val\n",
    "            l1 = l1.next \n",
    "        else:\n",
    "            n1 = 0\n",
    "        \n",
    "        if l2:\n",
    "            n2 = l2.val\n",
    "            l2 = l2.next\n",
    "        else:\n",
    "            n2 = 0\n",
    "\n",
    "        carry, sum = divmod(n1 + n2 + carry, 10)\n",
    "        temp.val = sum\n",
    "        if l1 or l2 or carry > 0:\n",
    "            temp.next = ListNode()\n",
    "            temp = temp.next\n",
    "        else:\n",
    "            break\n",
    "    return l3"
   ]
  },
  {
   "cell_type": "code",
   "execution_count": null,
   "metadata": {},
   "outputs": [],
   "source": []
  }
 ],
 "metadata": {
  "kernelspec": {
   "display_name": "Python 3",
   "language": "python",
   "name": "python3"
  },
  "language_info": {
   "codemirror_mode": {
    "name": "ipython",
    "version": 3
   },
   "file_extension": ".py",
   "mimetype": "text/x-python",
   "name": "python",
   "nbconvert_exporter": "python",
   "pygments_lexer": "ipython3",
   "version": "3.12.7"
  }
 },
 "nbformat": 4,
 "nbformat_minor": 2
}
